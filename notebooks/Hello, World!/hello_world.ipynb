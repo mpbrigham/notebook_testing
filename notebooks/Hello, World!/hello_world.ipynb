{
  "nbformat": 4,
  "nbformat_minor": 0,
  "metadata": {
    "colab": {
      "name": "Hello World!",
      "version": "0.3.2",
      "views": {},
      "default_view": {},
      "provenance": [
        {
          "file_id": "1f0fDwkmvyFC_2ZPTL9vQgIm_UaUeTxAc",
          "timestamp": 1524738812951
        }
      ],
      "collapsed_sections": []
    },
    "kernelspec": {
      "name": "python3",
      "display_name": "Python 3"
    },
    "accelerator": "GPU"
  },
  "cells": [
    {
      "metadata": {
        "id": "TpnOn58EgfaE",
        "colab_type": "text"
      },
      "cell_type": "markdown",
      "source": [
        "### CCNSS 2018 Prep\n",
        "# Jupyter notebook environment check\n",
        "\n",
        "[source](https://colab.research.google.com/drive/1YUEFfE2QeoM0q4ymP2RxT_R3izAIanjo)"
      ]
    },
    {
      "metadata": {
        "id": "HU7L6JxVgfaK",
        "colab_type": "text"
      },
      "cell_type": "markdown",
      "source": [
        "## Hello World!"
      ]
    },
    {
      "metadata": {
        "id": "L58fdqcNgfaM",
        "colab_type": "text"
      },
      "cell_type": "markdown",
      "source": [
        "**EXERCISE 1**\n",
        "\n",
        "Please modify the cell below to print \"Hello, World!\".\n",
        "\n",
        "**Suggestions**\n",
        "* Are quotes always a good thing?"
      ]
    },
    {
      "metadata": {
        "id": "UAHSSuaFgfaM",
        "colab_type": "code",
        "colab": {
          "autoexec": {
            "startup": false,
            "wait_interval": 0
          }
        }
      },
      "cell_type": "code",
      "source": [
        "# insert your code here\n",
        "\n",
        "# print('Hello, World!')"
      ],
      "execution_count": 0,
      "outputs": []
    },
    {
      "metadata": {
        "id": "DZZqT2DsgfaQ",
        "colab_type": "text"
      },
      "cell_type": "markdown",
      "source": [
        "**EXPECTED OUTPUT**\n",
        "\n",
        "```\n",
        "Hello, World!\n",
        "```"
      ]
    },
    {
      "metadata": {
        "id": "K6rz2D7IPLi_",
        "colab_type": "text"
      },
      "cell_type": "markdown",
      "source": [
        "**EXTENDED EXERCISE**\n",
        "\n",
        "Please execute the cell below for a taste of things to come..."
      ]
    },
    {
      "metadata": {
        "id": "akmmpLNiOwkq",
        "colab_type": "code",
        "colab": {
          "autoexec": {
            "startup": false,
            "wait_interval": 0
          }
        }
      },
      "cell_type": "code",
      "source": [
        "from IPython.core.display import HTML\n",
        "\n",
        "HTML('<img src=\"https://github.com/ccnss/ccnss2018_students/raw/master/module0/hello_world/figures/funky_neuron.gif\">')"
      ],
      "execution_count": 0,
      "outputs": []
    }
  ]
}