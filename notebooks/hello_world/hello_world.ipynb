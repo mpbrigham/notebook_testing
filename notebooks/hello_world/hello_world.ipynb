{
 "cells": [
  {
   "cell_type": "markdown",
   "metadata": {
    "colab_type": "text",
    "id": "TpnOn58EgfaE"
   },
   "source": [
    "### CCNSS 2018 Prep\n",
    "# Jupyter notebook environment check - Update 5\n",
    "\n",
    "[source](https://colab.research.google.com/drive/1YUEFfE2QeoM0q4ymP2RxT_R3izAIanjo)"
   ]
  },
  {
   "cell_type": "markdown",
   "metadata": {
    "colab_type": "text",
    "id": "HU7L6JxVgfaK"
   },
   "source": [
    "## Hello World!"
   ]
  },
  {
   "cell_type": "markdown",
   "metadata": {
    "colab_type": "text",
    "id": "L58fdqcNgfaM"
   },
   "source": [
    "**EXERCISE 1**\n",
    "\n",
    "Please modify the cell below to print \"Hello, World!\".\n",
    "\n",
    "**Suggestions**\n",
    "* Are quotes always a good thing?"
   ]
  },
  {
   "cell_type": "code",
   "execution_count": 0,
   "metadata": {
    "colab": {
     "autoexec": {
      "startup": false,
      "wait_interval": 0
     }
    },
    "colab_type": "code",
    "id": "UAHSSuaFgfaM"
   },
   "outputs": [],
   "source": [
    "# insert your code here\n",
    "\n",
    "# print('Hello, World!')"
   ]
  },
  {
   "cell_type": "markdown",
   "metadata": {
    "colab_type": "text",
    "id": "DZZqT2DsgfaQ"
   },
   "source": [
    "**EXPECTED OUTPUT**\n",
    "\n",
    "```\n",
    "Hello, World!\n",
    "```"
   ]
  },
  {
   "cell_type": "markdown",
   "metadata": {
    "colab_type": "text",
    "id": "K6rz2D7IPLi_"
   },
   "source": [
    "**EXTENDED EXERCISE**\n",
    "\n",
    "Please execute the cell below for a taste of things to come..."
   ]
  },
  {
   "cell_type": "code",
   "execution_count": 0,
   "metadata": {
    "colab": {
     "autoexec": {
      "startup": false,
      "wait_interval": 0
     }
    },
    "colab_type": "code",
    "id": "akmmpLNiOwkq"
   },
   "outputs": [],
   "source": [
    "from IPython.core.display import HTML\n",
    "\n",
    "HTML('<img src=\"https://github.com/ccnss/ccnss2018_students/raw/master/module0/hello_world/figures/funky_neuron.gif\">')"
   ]
  }
 ],
 "metadata": {
  "accelerator": "GPU",
  "colab": {
   "collapsed_sections": [],
   "default_view": {},
   "name": "Hello World!",
   "provenance": [
    {
     "file_id": "1f0fDwkmvyFC_2ZPTL9vQgIm_UaUeTxAc",
     "timestamp": 1524738812951
    }
   ],
   "version": "0.3.2",
   "views": {}
  },
  "kernelspec": {
   "display_name": "Python 3",
   "language": "python",
   "name": "python3"
  },
  "language_info": {
   "codemirror_mode": {
    "name": "ipython",
    "version": 3
   },
   "file_extension": ".py",
   "mimetype": "text/x-python",
   "name": "python",
   "nbconvert_exporter": "python",
   "pygments_lexer": "ipython3",
   "version": "3.6.5"
  }
 },
 "nbformat": 4,
 "nbformat_minor": 1
}
