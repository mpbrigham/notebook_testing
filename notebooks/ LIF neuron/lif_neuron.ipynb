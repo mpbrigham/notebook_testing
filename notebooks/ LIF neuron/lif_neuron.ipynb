{
  "nbformat": 4,
  "nbformat_minor": 0,
  "metadata": {
    "colab": {
      "name": "Introduction to Scientific Python - LIF neuron",
      "version": "0.3.2",
      "views": {},
      "default_view": {},
      "provenance": [
        {
          "file_id": "1f0fDwkmvyFC_2ZPTL9vQgIm_UaUeTxAc",
          "timestamp": 1524738812951
        }
      ],
      "collapsed_sections": []
    },
    "kernelspec": {
      "name": "python3",
      "display_name": "Python 3"
    },
    "accelerator": "GPU"
  },
  "cells": [
    {
      "metadata": {
        "id": "TpnOn58EgfaE",
        "colab_type": "text"
      },
      "cell_type": "markdown",
      "source": [
        "### CCNSS 2018 Prep\n",
        "# LIF Neuron assignment\n",
        "\n",
        "[source](https://colab.research.google.com/drive/1RtqqkgGfvVya-6xv8UVoYKI5U5oyprXs)"
      ]
    },
    {
      "metadata": {
        "id": "hi2UOXjigfaF",
        "colab_type": "text"
      },
      "cell_type": "markdown",
      "source": [
        "*Please execute the cell bellow in order to initialize the notebook environment*"
      ]
    },
    {
      "metadata": {
        "id": "nJgJVfSugfaG",
        "colab_type": "code",
        "colab": {
          "autoexec": {
            "startup": false,
            "wait_interval": 0
          }
        }
      },
      "cell_type": "code",
      "source": [
        "import matplotlib.pyplot as plt    # import matplotlib\n",
        "import math                        # import basic math functions\n",
        "import random                      # import basic random number generator functions\n",
        "\n",
        "fig_w, fig_h = (6, 4)\n",
        "plt.rcParams.update({'figure.figsize': (fig_w, fig_h)})"
      ],
      "execution_count": 0,
      "outputs": []
    },
    {
      "metadata": {
        "id": "UwXIfh1Y9j66",
        "colab_type": "text"
      },
      "cell_type": "markdown",
      "source": [
        "## Objectives\n",
        "\n",
        "In this notebook we'll implement a *Leaky Integrate-and-Fire (LIF)* neuron with stochastic pre-synaptic input current, and visualize its key statistical properties."
      ]
    },
    {
      "metadata": {
        "id": "HU7L6JxVgfaK",
        "colab_type": "text"
      },
      "cell_type": "markdown",
      "source": [
        "## Background\n",
        "\n",
        "This neuron model is defined by a *membrane equation* and a *reset condition*:\n",
        "\n",
        "\n",
        "\\begin{align*}\n",
        "\\\\\n",
        "&\\tau_m\\,\\frac{d}{dt}\\,V(t) = E_{L} - V(t) + R\\,I(t) &\\text{if }\\quad V(t) \\leq V_{th}\\\\\n",
        "\\\\\n",
        "&V(t) = V_{r} &\\text{otherwise}\\\\\n",
        "\\\\\n",
        "\\end{align*}\n",
        "\n",
        "\n",
        "where $V(t)$ is the membrane potential, $\\tau_m$ is the membrane time constant, $E_{L}$ is the leak potential, $I(t)$ is the pre-synaptic input current, $V_{th}$ is the firing threshold, and $V_{r}$ is the reset voltage.\n",
        "\n",
        "&nbsp; \n",
        "\n",
        "We'll extract and visualize the mean, standard deviation and histogram of the following quantities:\n",
        "\n",
        "* Pre-synaptic input current $I(t)$\n",
        "* Membrane potential $V(t)$\n",
        "* Output firing frequency $\\lambda(t)$\n",
        "\n",
        "&nbsp; \n",
        "\n",
        "The problem will be split in several steps:\n",
        "\n",
        "* Discrete time integration of $V(t)$ under sinusoidal pre-synaptic input, and without spikes\n",
        "* Stochastic pre-synaptic input\n",
        "* Visualizing ensemble statistics\n",
        "* Introducing output spikes"
      ]
    },
    {
      "metadata": {
        "id": "L58fdqcNgfaM",
        "colab_type": "text"
      },
      "cell_type": "markdown",
      "source": [
        "**EXERCISE 1**\n",
        "\n",
        "Initialize the main simulation variables.\n",
        "\n",
        "**Suggestions**\n",
        "* Modify the code below to print the main simulation parameters"
      ]
    },
    {
      "metadata": {
        "id": "UAHSSuaFgfaM",
        "colab_type": "code",
        "colab": {
          "autoexec": {
            "startup": false,
            "wait_interval": 0
          }
        }
      },
      "cell_type": "code",
      "source": [
        "# insert your code here\n",
        "\n",
        "# t_max = 150e-3   # second\n",
        "# dt = 1e-3        # second\n",
        "# tau = 20e-3      # second\n",
        "# el = -60e-3      # milivolt\n",
        "# vr = -70e-3      # milivolt\n",
        "# vth = -50e-3     # milivolt\n",
        "# r = 100e6        # ohm\n",
        "# i_mean = 25e-11  # ampere\n",
        "\n",
        "# print(t_max, dt, tau, el, vr, vth, r, i_mean)"
      ],
      "execution_count": 0,
      "outputs": []
    },
    {
      "metadata": {
        "id": "DZZqT2DsgfaQ",
        "colab_type": "text"
      },
      "cell_type": "markdown",
      "source": [
        "**EXPECTED OUTPUT**\n",
        "\n",
        "```\n",
        "0.15 0.001 0.02 -0.06 -0.07 -0.05 100000000.0 2.5e-10\n",
        "```"
      ]
    },
    {
      "metadata": {
        "id": "Ty3sLVFcgfaR",
        "colab_type": "text"
      },
      "cell_type": "markdown",
      "source": [
        "### ODE integration without spikes\n",
        "\n",
        "The numerical integration of the membrane equation can be performed in discrete time, with a sufficiently small $\\Delta t$. We start by writting the membrane equation. without taking the limit $\\Delta t \\to 0$ in the definition of the time derivative $d/dt\\,V(t)$:\n",
        "\n",
        "\n",
        "\\begin{align*}\n",
        "\\\\\n",
        "\\tau_m\\,\\frac{V\\left(t+\\Delta t\\right)-V\\left(t\\right)}{\\Delta t} &= E_{L} - V(t) + R\\,I(t)\\\\\n",
        "\\\\\n",
        "\\end{align*}\n",
        "\n",
        "\n",
        "The value of membrane potential $V\\left(t+\\Delta t\\right)$ can be expressed in terms of its previous value $V(t)$ by simple algebraic manipulation. For *small enough* values of $\\Delta t$ this provides a good approximation of the continuous time integration."
      ]
    },
    {
      "metadata": {
        "id": "fd9r_vV5gfaT",
        "colab_type": "text"
      },
      "cell_type": "markdown",
      "source": [
        "**EXERCISE 2**\n",
        "\n",
        "Compute the values of $V(t)$ between $t=0$ and $t=0.01$ with $V(0)=E_L$ and pre-synaptic input given by:\n",
        "\n",
        "\n",
        "\\begin{align*}\n",
        "\\\\\n",
        "I(t)=I_{mean}\\left(1+\\sin\\left(\\frac{2 \\pi}{0.01}\\,t\\right)\\right)\n",
        "\\\\\n",
        "\\end{align*}\n",
        "\n",
        "\n",
        "**Suggestions**\n",
        "* Express $V\\left(t+\\Delta t\\right)$ in terms of $V(t)$\n",
        "* Initialize the membrane potential variable `v` to `el`\n",
        "* Loop in the time variable `t` from `t=0` to `t=0.01` with time step `dt`\n",
        "* At each time step\n",
        "    * Compute the current value of `i`\n",
        "    * Update the value of `v`\n",
        "    * Print `v`\n",
        "* Use `math.pi` and `math.sin` for evaluating $\\pi$ and $\\sin(\\,)$, respectively"
      ]
    },
    {
      "metadata": {
        "id": "RJnMarcZHLyi",
        "colab_type": "code",
        "colab": {
          "autoexec": {
            "startup": false,
            "wait_interval": 0
          }
        }
      },
      "cell_type": "code",
      "source": [
        "# insert your code here"
      ],
      "execution_count": 0,
      "outputs": []
    },
    {
      "metadata": {
        "id": "Eb7u4zV2gfaV",
        "colab_type": "text"
      },
      "cell_type": "markdown",
      "source": [
        "**EXPECTED OUTPUT**\n",
        "\n",
        "```\n",
        "-0.05875\n",
        "-0.056827768434634406\n",
        "-0.05454755936753374\n",
        "-0.05238136075378811\n",
        "-0.05077756115073311\n",
        "-0.049988683093196457\n",
        "-0.04997398050390223\n",
        "-0.05041410212407606\n",
        "-0.0508322176632412\n",
        "-0.050775338345444725\n",
        "-0.050775338345444725\n",
        "```"
      ]
    },
    {
      "metadata": {
        "id": "7FB6_o4VgfaX",
        "colab_type": "text"
      },
      "cell_type": "markdown",
      "source": [
        "**EXERCISE 3**\n",
        "\n",
        "Plot the values of $V(t)$ between $t=0$ and $t=t_{max}$ under the same conditions.\n",
        "\n",
        "**Suggestions**\n",
        "* Update end time of loop to `t_max`\n",
        "* Replace printing command with plotting command (with keyword `'ko'`)"
      ]
    },
    {
      "metadata": {
        "id": "4osevDUGHcgq",
        "colab_type": "code",
        "colab": {
          "autoexec": {
            "startup": false,
            "wait_interval": 0
          }
        }
      },
      "cell_type": "code",
      "source": [
        "# insert your code here\n"
      ],
      "execution_count": 0,
      "outputs": []
    },
    {
      "metadata": {
        "id": "LC56amWvgfaZ",
        "colab_type": "text"
      },
      "cell_type": "markdown",
      "source": [
        "**EXPECTED OUTPUT**\n",
        "\n",
        "![](https://github.com/ccnss/ccnss2018_students/raw/master/module0/lif_neuron/figures/lif_3.png)"
      ]
    },
    {
      "metadata": {
        "id": "DtVAnrjzgfaa",
        "colab_type": "text"
      },
      "cell_type": "markdown",
      "source": [
        "## Stochastic pre-synaptic input\n",
        "\n",
        "From the standpoint of neurons, their pre-synaptic input is random. We'll improve the pre-synaptic input model by introducing random input with similar statistical properties:\n",
        "\n",
        "\n",
        "\\begin{align*}\n",
        "\\\\\n",
        "I(t)=I_{mean}\\left(1+0.1\\sqrt{\\frac{t_{max}}{\\Delta t}}\\,\\xi(t)\\right)\\qquad\\text{with }\\xi(t)\\sim U(-1,1)\\\\\n",
        "\\\\\n",
        "\\end{align*}\n",
        "\n",
        "\n",
        "where $U(-1,1)$ is the uniform distribution with support $x\\in[-1,1]$.\n",
        "\n",
        "A random pre-synaptic input $I(t)$ results in a random time course $V(t)$."
      ]
    },
    {
      "metadata": {
        "id": "9tYiSqQxgfab",
        "colab_type": "text"
      },
      "cell_type": "markdown",
      "source": [
        "**EXERCISE 4**\n",
        "\n",
        "Plot the values of $V(t)$ between $t=0$ and $t=t_{max}$ with random input $I(t)$.\n",
        "\n",
        "Initialize the (pseudo) random number generator to a fixed value (`0` for example) in order to obtain the same random input across executions of the code. The function `random.seed()` initializes the random number generator, and `random.random()` generates samples from the uniform distribution between `0` and `1`.\n",
        "\n",
        "**Suggestions**\n",
        "* Use the function `random.seed()`to initialize the random number generator to `0`\n",
        "* Use the function `random.random()` to generate the input at each timestep\n",
        "* Repeat the execution several times to verify that $V(t)$ has a random time course"
      ]
    },
    {
      "metadata": {
        "id": "xhkpikg4Hga_",
        "colab_type": "code",
        "colab": {
          "autoexec": {
            "startup": false,
            "wait_interval": 0
          }
        }
      },
      "cell_type": "code",
      "source": [
        "# insert your code here\n"
      ],
      "execution_count": 0,
      "outputs": []
    },
    {
      "metadata": {
        "id": "5Ygqwcjtgfaf",
        "colab_type": "text"
      },
      "cell_type": "markdown",
      "source": [
        "**EXPECTED OUTPUT**\n",
        "\n",
        "![](https://github.com/ccnss/ccnss2018_students/raw/master/module0/lif_neuron/figures/lif_4.png)"
      ]
    },
    {
      "metadata": {
        "id": "iMU113fIgfaf",
        "colab_type": "text"
      },
      "cell_type": "markdown",
      "source": [
        "## Ensemble statistics\n",
        "\n",
        "Multiple runs of the previous exercise may give the impression of periodic regularity in the evolution of $V(t)$. We'll collect the sample mean over $N$ realizations of $V(t)$  with random input in order to test such hypothesis. The sample mean, sample variance and sample autocovariance at times $\\left\\{t_k, t_j\\right\\}\\in[0,t_{max}]$, and for $N$ realizations of $V(t)$ are given by:\n",
        "\n",
        "\\begin{align*}\n",
        "\\\\\n",
        "\\left\\langle V(t_k)\\right\\rangle &= \\frac{1}{N}\\sum_{n=1}^N V(t_k)_n & & \\text{sample mean}\\\\\n",
        "\\left\\langle (V(t_k)-\\left\\langle V(t_k)\\right\\rangle)^2\\right\\rangle &= \\frac{1}{N-1} \\sum_{n=1}^N \\left(V(t_k)_n-\\left\\langle V(t_k)\\right\\rangle\\right)^2 & & \\text{sample variance} \\\\\n",
        "\\left\\langle \\left(V(t_k)-\\left\\langle V(t_k)\\right\\rangle\\right)\\left(V(t_j)-\\left\\langle V(t_j)\\right\\rangle\\right)\\right\\rangle\n",
        "&= \\frac{1}{N-1} \\sum_{n=1}^N \\left(V(t_k)_n-\\left\\langle V(t_k)\\right\\rangle\\right)\\left(V(t_j)_n-\\left\\langle V(t_j)\\right\\rangle\\right) & & \\text{sample autocovariance}\\\\\n",
        "\\\\\n",
        "\\end{align*}"
      ]
    },
    {
      "metadata": {
        "id": "KMKHZZoEgfag",
        "colab_type": "text"
      },
      "cell_type": "markdown",
      "source": [
        "**EXERCISE 5**\n",
        "\n",
        "Plot multiple realizations of $V(t)$.\n",
        "\n",
        "**Suggestions**\n",
        "* Create a list to store the value of $V(t)$ for each realization.\n",
        "* At each timestep loop over `N=50` realizations of random input\n",
        "* Plot the realizations at each time step with keyword `'ko'` and parameter `alpha=0.05`"
      ]
    },
    {
      "metadata": {
        "id": "WnQGE6RmHkZX",
        "colab_type": "code",
        "colab": {
          "autoexec": {
            "startup": false,
            "wait_interval": 0
          }
        }
      },
      "cell_type": "code",
      "source": [
        "# insert your code here\n"
      ],
      "execution_count": 0,
      "outputs": []
    },
    {
      "metadata": {
        "id": "PXPIFNdAgfal",
        "colab_type": "text"
      },
      "cell_type": "markdown",
      "source": [
        "**EXPECTED OUTPUT**\n",
        "\n",
        "![](https://github.com/ccnss/ccnss2018_students/raw/master/module0/lif_neuron/figures/lif_5.png)"
      ]
    },
    {
      "metadata": {
        "id": "MaUVdD9Ggfam",
        "colab_type": "text"
      },
      "cell_type": "markdown",
      "source": [
        "**EXERCISE 6**\n",
        "\n",
        "Plot the sample mean $\\left\\langle V(t)\\right\\rangle$ over `N=50` realizations.\n",
        "\n",
        "**Suggestions**\n",
        "* Plot the sample mean at each timestep with keyword `'C0o'` and parameter `alpha=0.8`"
      ]
    },
    {
      "metadata": {
        "id": "-SKTuBXeHoUE",
        "colab_type": "code",
        "colab": {
          "autoexec": {
            "startup": false,
            "wait_interval": 0
          }
        }
      },
      "cell_type": "code",
      "source": [
        "# insert your code here\n"
      ],
      "execution_count": 0,
      "outputs": []
    },
    {
      "metadata": {
        "id": "sqkWKauIgfaq",
        "colab_type": "text"
      },
      "cell_type": "markdown",
      "source": [
        "**EXPECTED OUTPUT**\n",
        "\n",
        "![](https://github.com/ccnss/ccnss2018_students/raw/master/module0/lif_neuron/figures/lif_6.png)"
      ]
    },
    {
      "metadata": {
        "id": "vpg-xvb6gfat",
        "colab_type": "text"
      },
      "cell_type": "markdown",
      "source": [
        "**EXERCISE 7**\n",
        "\n",
        "Add sample standard deviation $\\sigma(t_k)\\equiv\\sqrt{\\text{Var}\\left(t_k\\right)}$ to the plot.\n",
        "\n",
        "**Suggestions**\n",
        "* After collecting the sample mean, iterate a second time to compute the sample variance $\\sigma(t_k)$\n",
        "* Plot $\\left\\langle V(t)\\right\\rangle\\pm\\sigma(t_k)$ with keyword `'C0o'` and parameter `alpha=0.8`."
      ]
    },
    {
      "metadata": {
        "id": "urB24HwtHrYc",
        "colab_type": "code",
        "colab": {
          "autoexec": {
            "startup": false,
            "wait_interval": 0
          }
        }
      },
      "cell_type": "code",
      "source": [
        "# insert your code here\n"
      ],
      "execution_count": 0,
      "outputs": []
    },
    {
      "metadata": {
        "id": "ooZGRcD0gfay",
        "colab_type": "text"
      },
      "cell_type": "markdown",
      "source": [
        "**EXPECTED OUTPUT**\n",
        "\n",
        "![](https://github.com/ccnss/ccnss2018_students/raw/master/module0/lif_neuron/figures/lif_7.png)"
      ]
    },
    {
      "metadata": {
        "id": "IFgUG14qgfay",
        "colab_type": "text"
      },
      "cell_type": "markdown",
      "source": [
        "## Sample histogram\n",
        "\n",
        "Another important statistic is the sample histogram at time $t_k\\in[0,t_{max}]$, which for $N$ realizations $V\\left(t_k\\right)$ and $J$ bins is given by:\n",
        " \n",
        "\\begin{align*}\n",
        "\\\\\n",
        "N = \\sum_{j=1}^{J} m_j\\\\\n",
        "\\\\\n",
        "\\end{align*}\n",
        "\n",
        "where $m_j$ is a function that counts the number of samples $V\\left(t_k\\right)$ that fall into bin $j$."
      ]
    },
    {
      "metadata": {
        "id": "qbaJrZLTgfaz",
        "colab_type": "text"
      },
      "cell_type": "markdown",
      "source": [
        "**EXERCISE 8**\n",
        "\n",
        "Plot an histogram of $J=50$ bins of $V(t)$ for $t=t_{max}/10$ and $t=t_{max}$ for $N=10000$ realizations.\n",
        "\n",
        "The function `plt.hist(data, nbins)` plots an histogram of `nbins` bins of the list 'data' and returns the lists `pdf`, `bins`, `patches`.\n",
        "\n",
        "`pdf, bins, patches = plt.hist(data, bins)`\n",
        "\n",
        "The parameters `histtype='stepfilled'` and `linewidth=0` may improve the plots.\n",
        "\n",
        "**Suggestions**\n",
        "* Plot the 1st histogram after running up to $t=t_{max}/10$\n",
        "* Plot the 2nd histogram at $t=t_{max}$\n",
        "* Add labels to identify the time of each histogram\n",
        "* Plot each histogram with parameters `histtype='stepfilled'` and `linewidth=0`"
      ]
    },
    {
      "metadata": {
        "id": "KkTXNGDhHudN",
        "colab_type": "code",
        "colab": {
          "autoexec": {
            "startup": false,
            "wait_interval": 0
          }
        }
      },
      "cell_type": "code",
      "source": [
        "# insert your code here\n"
      ],
      "execution_count": 0,
      "outputs": []
    },
    {
      "metadata": {
        "id": "WR1SoneBgfa1",
        "colab_type": "text"
      },
      "cell_type": "markdown",
      "source": [
        "**EXPECTED OUTPUT**\n",
        "\n",
        "![](https://github.com/ccnss/ccnss2018_students/raw/master/module0/lif_neuron/figures/lif_8.png)"
      ]
    },
    {
      "metadata": {
        "id": "8HKjvQqNgfa2",
        "colab_type": "text"
      },
      "cell_type": "markdown",
      "source": [
        "## Output spikes\n",
        "\n",
        "Introduce the *reset condition*: $V(t) = V_{r} \\text{if }\\quad V(t)\\geq V_{th}$"
      ]
    },
    {
      "metadata": {
        "id": "ZNMcJsVzgfa2",
        "colab_type": "text"
      },
      "cell_type": "markdown",
      "source": [
        "**EXERCISE 9**\n",
        "\n",
        "Insert the reset condition, and collect the spike times of each realization in a dictionary variable `spikes`, with $N=500$.\n",
        "\n",
        "**Suggestions**\n",
        "* Reset $V(t)$ to $V_r$ if $V(t)\\geq V_{th}$ and collect the spike time\n",
        "* Plot each realization with keyword `'ko'` and parameter `alpha=0.01`\n",
        "* Plot the sample mean with keyword `'C0o'` and parameter `alpha=0.8`\n",
        "* Create a new figure and plot the spike times with keyword `'k.'` and parameter `alpha=0.2`\n",
        "* Create a new figure and plot and the mean spiking activity"
      ]
    },
    {
      "metadata": {
        "id": "cZY0Rc1THva7",
        "colab_type": "code",
        "colab": {
          "autoexec": {
            "startup": false,
            "wait_interval": 0
          }
        }
      },
      "cell_type": "code",
      "source": [
        "# insert your code here\n"
      ],
      "execution_count": 0,
      "outputs": []
    },
    {
      "metadata": {
        "id": "N4Tw0xZjgfa5",
        "colab_type": "text"
      },
      "cell_type": "markdown",
      "source": [
        "**EXPECTED OUTPUT**\n",
        "\n",
        "![](https://github.com/ccnss/ccnss2018_students/raw/master/module0/lif_neuron/figures/lif_9a.png)\n",
        "![](https://github.com/ccnss/ccnss2018_students/raw/master/module0/lif_neuron/figures/lif_9b.png)"
      ]
    },
    {
      "metadata": {
        "id": "OKPt9ROPgfa5",
        "colab_type": "text"
      },
      "cell_type": "markdown",
      "source": [
        "**EXERCISE 10**\n",
        "\n",
        "Investigate the effect of refractory period $t_{ref}$ on the evolution of output rate $\\lambda(t)$.\n",
        "\n",
        "**Suggestions**\n",
        "* Add refractory period $t_{ref}=10$ ms after each spike, during which $V(t)$ is clamped to $V_r$\n",
        "* Experiment increasingly higher values of refractory period $t_{ref}$"
      ]
    },
    {
      "metadata": {
        "id": "qBF6OrXJHyjR",
        "colab_type": "code",
        "colab": {
          "autoexec": {
            "startup": false,
            "wait_interval": 0
          }
        }
      },
      "cell_type": "code",
      "source": [
        "# insert your code here\n"
      ],
      "execution_count": 0,
      "outputs": []
    },
    {
      "metadata": {
        "id": "oLXiaOZNgfa7",
        "colab_type": "text"
      },
      "cell_type": "markdown",
      "source": [
        "**EXPECTED OUTPUT**\n",
        "\n",
        "![](https://github.com/ccnss/ccnss2018_students/raw/master/module0/lif_neuron/figures/lif_10a.png)\n",
        "![](https://github.com/ccnss/ccnss2018_students/raw/master/module0/lif_neuron/figures/lif_10b.png)"
      ]
    },
    {
      "metadata": {
        "id": "SlSJxYL3gfa8",
        "colab_type": "text"
      },
      "cell_type": "markdown",
      "source": [
        "**EXERCISE 11**\n",
        "\n",
        "Below is a proposed implementation for Exercise 7 from above. Rewrite this code, but break it up into functions. Specifically, write and use function to:\n",
        "* `I(n)`: returns the current, $I(t)$, at a given time $t$, a list of $n$ floats\n",
        "* `mean(x)`: returns the mean of `x`, a list of floats\n",
        "* `std(x)`: returns the standard deviation of `x`, a list of floats\n",
        "* `ode_step(v, i)`: returns the voltage at the next time step, $V(t+\\Delta t)$, given the voltage at the current time step, $V(t)$, and the current, $I(t)$, all lists of floats"
      ]
    },
    {
      "metadata": {
        "id": "41g6NCGQH1Sv",
        "colab_type": "code",
        "colab": {
          "autoexec": {
            "startup": false,
            "wait_interval": 0
          }
        }
      },
      "cell_type": "code",
      "source": [
        "# insert your code here\n"
      ],
      "execution_count": 0,
      "outputs": []
    },
    {
      "metadata": {
        "id": "I53mG4PLgfa-",
        "colab_type": "text"
      },
      "cell_type": "markdown",
      "source": [
        "**EXPECTED OUTPUT**\n",
        "\n",
        "![](https://github.com/ccnss/ccnss2018_students/raw/master/module0/lif_neuron/figures/lif_11.png)"
      ]
    },
    {
      "metadata": {
        "id": "Fgbb5r6lgfa-",
        "colab_type": "text"
      },
      "cell_type": "markdown",
      "source": [
        "**EXERCISE 12**\n",
        "\n",
        "Rewrite the code from Exercise 11, but now use the tools from NumPy. For example:\n",
        "* Use `np.array` instead of Python list for voltage, $V(t)$, and time, $t$\n",
        "* Use the NumPy functions for statistical function, (e.g. `np.mean`) and mathematical (e.g. `np.sqrt`) operations\n",
        "* Plot mean $\\pm$ std using `plt.fill_between` with parameters `alpha='0.6'`\n",
        "* Plot mean with parameter `linewidth=3`"
      ]
    },
    {
      "metadata": {
        "id": "0lYF-ncTH6SI",
        "colab_type": "code",
        "colab": {
          "autoexec": {
            "startup": false,
            "wait_interval": 0
          }
        }
      },
      "cell_type": "code",
      "source": [
        "# insert your code here\n"
      ],
      "execution_count": 0,
      "outputs": []
    }
  ]
}